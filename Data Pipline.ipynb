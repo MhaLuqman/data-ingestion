{
 "cells": [
  {
   "cell_type": "markdown",
   "id": "85629189",
   "metadata": {},
   "source": [
    "<h1 style=\"text-align:center; color:blue\">File ingestion and schema validation </h1>"
   ]
  },
  {
   "cell_type": "markdown",
   "id": "75f65270",
   "metadata": {},
   "source": [
    "<hr>\n",
    "<hr>\n"
   ]
  },
  {
   "cell_type": "markdown",
   "id": "e3cb9e0c",
   "metadata": {},
   "source": [
    "#### Overwrite Utility File."
   ]
  },
  {
   "cell_type": "code",
   "execution_count": 1,
   "id": "c0fc23ba",
   "metadata": {},
   "outputs": [
    {
     "name": "stdout",
     "output_type": "stream",
     "text": [
      "Writing testutility.py\n"
     ]
    }
   ],
   "source": [
    "\n",
    "%%writefile testutility.py\n",
    "import logging\n",
    "import os\n",
    "import subprocess\n",
    "import yaml\n",
    "import pandas as pd\n",
    "import datetime \n",
    "import gc\n",
    "import re\n",
    "\n",
    "\n",
    "################\n",
    "# File Reading #\n",
    "################\n",
    "\n",
    "def read_config_file(filepath):\n",
    "    with open(filepath, 'r') as stream:\n",
    "        try:\n",
    "            return yaml.safe_load(stream)\n",
    "        except yaml.YAMLError as exc:\n",
    "            logging.error(exc)\n",
    "\n",
    "\n",
    "def replacer(string, char):\n",
    "    pattern = char + '{2,}'\n",
    "    string = re.sub(pattern, char, string) \n",
    "    return string\n",
    "\n",
    "def col_header_val(df,table_config):\n",
    "    '''\n",
    "    replace whitespaces in the column\n",
    "    and standardized column names\n",
    "    '''\n",
    "    df.columns = df.columns.str.lower()\n",
    "    df.columns = df.columns.str.replace('[^\\w]','_',regex=True)\n",
    "    df.columns = list(map(lambda x: x.strip('_'), list(df.columns)))\n",
    "    df.columns = list(map(lambda x: replacer(x,'_'), list(df.columns)))\n",
    "    expected_col = list(map(lambda x: x.lower(),  table_config['columns']))\n",
    "    expected_col.sort()\n",
    "    df.columns =list(map(lambda x: x.lower(), list(df.columns)))\n",
    "    df = df.reindex(sorted(df.columns), axis=1)\n",
    "    if len(df.columns) == len(expected_col) and list(expected_col)  == list(df.columns):\n",
    "        print(\"column name and column length validation passed\")\n",
    "        return 1\n",
    "    else:\n",
    "        print(\"column name and column length validation failed\")\n",
    "        mismatched_columns_file = list(set(df.columns).difference(expected_col))\n",
    "        print(\"Following File columns are not in the YAML file\",mismatched_columns_file)\n",
    "        missing_YAML_file = list(set(expected_col).difference(df.columns))\n",
    "        print(\"Following YAML columns are not in the file uploaded\",missing_YAML_file)\n",
    "        logging.info(f'df columns: {df.columns}')\n",
    "        logging.info(f'expected columns: {expected_col}')\n",
    "        return 0\n"
   ]
  },
  {
   "cell_type": "markdown",
   "id": "dab36571",
   "metadata": {},
   "source": [
    "<hr>"
   ]
  },
  {
   "cell_type": "markdown",
   "id": "ece0287f",
   "metadata": {},
   "source": [
    "#### Trying different methods of file reading"
   ]
  },
  {
   "cell_type": "markdown",
   "id": "67142875",
   "metadata": {},
   "source": [
    "1-Pandas"
   ]
  },
  {
   "cell_type": "code",
   "execution_count": 2,
   "id": "809edaac",
   "metadata": {},
   "outputs": [
    {
     "name": "stderr",
     "output_type": "stream",
     "text": [
      "c:\\users\\user\\appdata\\local\\programs\\python\\python39\\lib\\site-packages\\IPython\\core\\interactiveshell.py:3441: DtypeWarning: Columns (3,4,5) have mixed types.Specify dtype option on import or set low_memory=False.\n",
      "  exec(code_obj, self.user_global_ns, self.user_ns)\n"
     ]
    },
    {
     "name": "stdout",
     "output_type": "stream",
     "text": [
      "Time it took to read the file using panads:  14.468481063842773 sec\n"
     ]
    }
   ],
   "source": [
    "import pandas as pd\n",
    "import time\n",
    "start = time.time()\n",
    "pd_df = pd.read_csv(\"survival_data.csv\")\n",
    "end = time.time()\n",
    "print(\"Time it took to read the file using panads: \",(end-start),\"sec\")"
   ]
  },
  {
   "cell_type": "markdown",
   "id": "3ce65b23",
   "metadata": {},
   "source": [
    "2-Dask"
   ]
  },
  {
   "cell_type": "code",
   "execution_count": 3,
   "id": "3c94e055",
   "metadata": {},
   "outputs": [
    {
     "name": "stdout",
     "output_type": "stream",
     "text": [
      "Time it took to read the file using Dask:  0.06254386901855469 sec\n"
     ]
    }
   ],
   "source": [
    "from dask import dataframe as dd\n",
    "import time\n",
    "start = time.time()\n",
    "dask_df = dd.read_csv(\"survival_data.csv\")\n",
    "end = time.time()\n",
    "print(\"Time it took to read the file using Dask: \",(end-start),\"sec\")"
   ]
  },
  {
   "cell_type": "markdown",
   "id": "2462d949",
   "metadata": {},
   "source": [
    "#### Dask was the fastest one by a lot of time"
   ]
  },
  {
   "cell_type": "markdown",
   "id": "04576da4",
   "metadata": {},
   "source": [
    "## Remove special character , white spaces.\n"
   ]
  },
  {
   "cell_type": "code",
   "execution_count": 4,
   "id": "e637d280",
   "metadata": {},
   "outputs": [
    {
     "data": {
      "text/html": [
       "<div>\n",
       "<style scoped>\n",
       "    .dataframe tbody tr th:only-of-type {\n",
       "        vertical-align: middle;\n",
       "    }\n",
       "\n",
       "    .dataframe tbody tr th {\n",
       "        vertical-align: top;\n",
       "    }\n",
       "\n",
       "    .dataframe thead th {\n",
       "        text-align: right;\n",
       "    }\n",
       "</style>\n",
       "<table border=\"1\" class=\"dataframe\">\n",
       "  <thead>\n",
       "    <tr style=\"text-align: right;\">\n",
       "      <th></th>\n",
       "      <th>Client id</th>\n",
       "      <th>age_start_observed</th>\n",
       "      <th>age_end</th>\n",
       "      <th>is_truncated</th>\n",
       "      <th>is_censored</th>\n",
       "      <th>is_dead</th>\n",
       "      <th>date_start_observed</th>\n",
       "      <th>date_end_observed</th>\n",
       "    </tr>\n",
       "  </thead>\n",
       "  <tbody>\n",
       "    <tr>\n",
       "      <th>0</th>\n",
       "      <td>15113102</td>\n",
       "      <td>0.000000</td>\n",
       "      <td>9.097335</td>\n",
       "      <td>False</td>\n",
       "      <td>True</td>\n",
       "      <td>False</td>\n",
       "      <td>1908-11-17</td>\n",
       "      <td>1917-12-22</td>\n",
       "    </tr>\n",
       "    <tr>\n",
       "      <th>1</th>\n",
       "      <td>41505894</td>\n",
       "      <td>0.000000</td>\n",
       "      <td>64.486689</td>\n",
       "      <td>False</td>\n",
       "      <td>True</td>\n",
       "      <td>False</td>\n",
       "      <td>1828-09-13</td>\n",
       "      <td>1893-03-10</td>\n",
       "    </tr>\n",
       "    <tr>\n",
       "      <th>2</th>\n",
       "      <td>24774171</td>\n",
       "      <td>0.000000</td>\n",
       "      <td>33.071552</td>\n",
       "      <td>False</td>\n",
       "      <td>True</td>\n",
       "      <td>False</td>\n",
       "      <td>1911-02-07</td>\n",
       "      <td>1944-03-04</td>\n",
       "    </tr>\n",
       "    <tr>\n",
       "      <th>3</th>\n",
       "      <td>97834936</td>\n",
       "      <td>34.834566</td>\n",
       "      <td>68.778258</td>\n",
       "      <td>True</td>\n",
       "      <td>True</td>\n",
       "      <td>False</td>\n",
       "      <td>1820-01-01</td>\n",
       "      <td>1853-12-10</td>\n",
       "    </tr>\n",
       "    <tr>\n",
       "      <th>4</th>\n",
       "      <td>45793809</td>\n",
       "      <td>0.000000</td>\n",
       "      <td>95.948358</td>\n",
       "      <td>False</td>\n",
       "      <td>False</td>\n",
       "      <td>True</td>\n",
       "      <td>1870-05-29</td>\n",
       "      <td>1966-05-11</td>\n",
       "    </tr>\n",
       "  </tbody>\n",
       "</table>\n",
       "</div>"
      ],
      "text/plain": [
       "   Client id  age_start_observed    age_end  is_truncated  is_censored  \\\n",
       "0   15113102            0.000000   9.097335         False         True   \n",
       "1   41505894            0.000000  64.486689         False         True   \n",
       "2   24774171            0.000000  33.071552         False         True   \n",
       "3   97834936           34.834566  68.778258          True         True   \n",
       "4   45793809            0.000000  95.948358         False        False   \n",
       "\n",
       "   is_dead date_start_observed date_end_observed  \n",
       "0    False          1908-11-17        1917-12-22  \n",
       "1    False          1828-09-13        1893-03-10  \n",
       "2    False          1911-02-07        1944-03-04  \n",
       "3    False          1820-01-01        1853-12-10  \n",
       "4     True          1870-05-29        1966-05-11  "
      ]
     },
     "execution_count": 4,
     "metadata": {},
     "output_type": "execute_result"
    }
   ],
   "source": [
    "from dask import dataframe as dd\n",
    "df = dd.read_csv(\"survival_data.csv\")\n",
    "df.head()"
   ]
  },
  {
   "cell_type": "code",
   "execution_count": 5,
   "id": "a06478b0",
   "metadata": {},
   "outputs": [
    {
     "name": "stdout",
     "output_type": "stream",
     "text": [
      "Index(['Client id', 'age_start_observed', 'age_end', 'is_truncated',\n",
      "       'is_censored', 'is_dead', 'date_start_observed', 'date_end_observed'],\n",
      "      dtype='object')\n"
     ]
    }
   ],
   "source": [
    "print(df.columns)\n"
   ]
  },
  {
   "cell_type": "code",
   "execution_count": 18,
   "id": "1f034129",
   "metadata": {},
   "outputs": [],
   "source": [
    "#df.columns=df.columns.str.replace('[#,@,&,_]','')\n",
    "#df.columns = df.columns.str.replace(' ', '')\n",
    "#print(df.columns)"
   ]
  },
  {
   "cell_type": "markdown",
   "id": "069085fa",
   "metadata": {},
   "source": [
    "<hr>"
   ]
  },
  {
   "cell_type": "markdown",
   "id": "8364baa3",
   "metadata": {},
   "source": [
    "## Overwrite YAML File.\n"
   ]
  },
  {
   "cell_type": "code",
   "execution_count": 19,
   "id": "2caebcfd",
   "metadata": {},
   "outputs": [
    {
     "name": "stdout",
     "output_type": "stream",
     "text": [
      "Writing file.yaml\n"
     ]
    }
   ],
   "source": [
    "%%writefile file.yaml\n",
    "\n",
    "file_type: csv\n",
    "dataset_name: Survival Analysis Synthetic Data\n",
    "file_name: survival_data.csv\n",
    "table_name: survival_data\n",
    "inbound_delimiter: \",\"\n",
    "outbound_delimiter: \"|\"\n",
    "skip_leading_rows: 1\n",
    "columns: \n",
    "    -Client id\n",
    "    -age_start_observed\n",
    "    -age_end\n",
    "    -is_truncated\n",
    "    -is_censored\n",
    "    -is_dead\n",
    "    -date_start_observed\n",
    "    -date_end_observed"
   ]
  },
  {
   "cell_type": "code",
   "execution_count": 20,
   "id": "30d2875f",
   "metadata": {},
   "outputs": [],
   "source": [
    " # Read config file\n",
    "import testutility as util\n",
    "config_data = util.read_config_file(\"file.yaml\")"
   ]
  },
  {
   "cell_type": "code",
   "execution_count": 21,
   "id": "c2e73dcf",
   "metadata": {},
   "outputs": [
    {
     "data": {
      "text/plain": [
       "','"
      ]
     },
     "execution_count": 21,
     "metadata": {},
     "output_type": "execute_result"
    }
   ],
   "source": [
    "config_data['inbound_delimiter']"
   ]
  },
  {
   "cell_type": "code",
   "execution_count": 22,
   "id": "67c7d4c8",
   "metadata": {},
   "outputs": [
    {
     "data": {
      "text/plain": [
       "{'file_type': 'csv',\n",
       " 'dataset_name': 'Survival Analysis Synthetic Data',\n",
       " 'file_name': 'survival_data.csv',\n",
       " 'table_name': 'survival_data',\n",
       " 'inbound_delimiter': ',',\n",
       " 'outbound_delimiter': '|',\n",
       " 'skip_leading_rows': 1,\n",
       " 'columns': '-Client id -age_start_observed -age_end -is_truncated -is_censored -is_dead -date_start_observed -date_end_observed'}"
      ]
     },
     "execution_count": 22,
     "metadata": {},
     "output_type": "execute_result"
    }
   ],
   "source": [
    "#inspecting data of config file\n",
    "config_data"
   ]
  },
  {
   "cell_type": "code",
   "execution_count": 23,
   "id": "5cbc00e3",
   "metadata": {},
   "outputs": [
    {
     "name": "stderr",
     "output_type": "stream",
     "text": [
      "c:\\users\\user\\appdata\\local\\programs\\python\\python39\\lib\\site-packages\\IPython\\core\\interactiveshell.py:3441: DtypeWarning: Columns (3,4,5) have mixed types.Specify dtype option on import or set low_memory=False.\n",
      "  exec(code_obj, self.user_global_ns, self.user_ns)\n"
     ]
    },
    {
     "data": {
      "text/html": [
       "<div>\n",
       "<style scoped>\n",
       "    .dataframe tbody tr th:only-of-type {\n",
       "        vertical-align: middle;\n",
       "    }\n",
       "\n",
       "    .dataframe tbody tr th {\n",
       "        vertical-align: top;\n",
       "    }\n",
       "\n",
       "    .dataframe thead th {\n",
       "        text-align: right;\n",
       "    }\n",
       "</style>\n",
       "<table border=\"1\" class=\"dataframe\">\n",
       "  <thead>\n",
       "    <tr style=\"text-align: right;\">\n",
       "      <th></th>\n",
       "      <th>Client id</th>\n",
       "      <th>age_start_observed</th>\n",
       "      <th>age_end</th>\n",
       "      <th>is_truncated</th>\n",
       "      <th>is_censored</th>\n",
       "      <th>is_dead</th>\n",
       "      <th>date_start_observed</th>\n",
       "      <th>date_end_observed</th>\n",
       "    </tr>\n",
       "  </thead>\n",
       "  <tbody>\n",
       "    <tr>\n",
       "      <th>0</th>\n",
       "      <td>15113102</td>\n",
       "      <td>0.000000</td>\n",
       "      <td>9.097335</td>\n",
       "      <td>False</td>\n",
       "      <td>True</td>\n",
       "      <td>False</td>\n",
       "      <td>1908-11-17</td>\n",
       "      <td>1917-12-22</td>\n",
       "    </tr>\n",
       "    <tr>\n",
       "      <th>1</th>\n",
       "      <td>41505894</td>\n",
       "      <td>0.000000</td>\n",
       "      <td>64.486689</td>\n",
       "      <td>False</td>\n",
       "      <td>True</td>\n",
       "      <td>False</td>\n",
       "      <td>1828-09-13</td>\n",
       "      <td>1893-03-10</td>\n",
       "    </tr>\n",
       "    <tr>\n",
       "      <th>2</th>\n",
       "      <td>24774171</td>\n",
       "      <td>0.000000</td>\n",
       "      <td>33.071552</td>\n",
       "      <td>False</td>\n",
       "      <td>True</td>\n",
       "      <td>False</td>\n",
       "      <td>1911-02-07</td>\n",
       "      <td>1944-03-04</td>\n",
       "    </tr>\n",
       "    <tr>\n",
       "      <th>3</th>\n",
       "      <td>97834936</td>\n",
       "      <td>34.834566</td>\n",
       "      <td>68.778258</td>\n",
       "      <td>True</td>\n",
       "      <td>True</td>\n",
       "      <td>False</td>\n",
       "      <td>1820-01-01</td>\n",
       "      <td>1853-12-10</td>\n",
       "    </tr>\n",
       "    <tr>\n",
       "      <th>4</th>\n",
       "      <td>45793809</td>\n",
       "      <td>0.000000</td>\n",
       "      <td>95.948358</td>\n",
       "      <td>False</td>\n",
       "      <td>False</td>\n",
       "      <td>True</td>\n",
       "      <td>1870-05-29</td>\n",
       "      <td>1966-05-11</td>\n",
       "    </tr>\n",
       "  </tbody>\n",
       "</table>\n",
       "</div>"
      ],
      "text/plain": [
       "   Client id  age_start_observed    age_end is_truncated is_censored is_dead  \\\n",
       "0   15113102            0.000000   9.097335        False        True   False   \n",
       "1   41505894            0.000000  64.486689        False        True   False   \n",
       "2   24774171            0.000000  33.071552        False        True   False   \n",
       "3   97834936           34.834566  68.778258         True        True   False   \n",
       "4   45793809            0.000000  95.948358        False       False    True   \n",
       "\n",
       "  date_start_observed date_end_observed  \n",
       "0          1908-11-17        1917-12-22  \n",
       "1          1828-09-13        1893-03-10  \n",
       "2          1911-02-07        1944-03-04  \n",
       "3          1820-01-01        1853-12-10  \n",
       "4          1870-05-29        1966-05-11  "
      ]
     },
     "execution_count": 23,
     "metadata": {},
     "output_type": "execute_result"
    }
   ],
   "source": [
    "# Normal reading process of the file\n",
    "import pandas as pd\n",
    "df_sample = pd.read_csv(\"survival_data.csv\",delimiter=',')\n",
    "df_sample.head()"
   ]
  },
  {
   "cell_type": "code",
   "execution_count": 24,
   "id": "52667e2d",
   "metadata": {},
   "outputs": [
    {
     "name": "stderr",
     "output_type": "stream",
     "text": [
      "c:\\users\\user\\appdata\\local\\programs\\python\\python39\\lib\\site-packages\\IPython\\core\\interactiveshell.py:3441: FutureWarning: In a future version of pandas all arguments of read_csv except for the argument 'filepath_or_buffer' will be keyword-only\n",
      "  exec(code_obj, self.user_global_ns, self.user_ns)\n",
      "c:\\users\\user\\appdata\\local\\programs\\python\\python39\\lib\\site-packages\\IPython\\core\\interactiveshell.py:3441: DtypeWarning: Columns (3,4,5) have mixed types.Specify dtype option on import or set low_memory=False.\n",
      "  exec(code_obj, self.user_global_ns, self.user_ns)\n"
     ]
    },
    {
     "data": {
      "text/html": [
       "<div>\n",
       "<style scoped>\n",
       "    .dataframe tbody tr th:only-of-type {\n",
       "        vertical-align: middle;\n",
       "    }\n",
       "\n",
       "    .dataframe tbody tr th {\n",
       "        vertical-align: top;\n",
       "    }\n",
       "\n",
       "    .dataframe thead th {\n",
       "        text-align: right;\n",
       "    }\n",
       "</style>\n",
       "<table border=\"1\" class=\"dataframe\">\n",
       "  <thead>\n",
       "    <tr style=\"text-align: right;\">\n",
       "      <th></th>\n",
       "      <th>Client id</th>\n",
       "      <th>age_start_observed</th>\n",
       "      <th>age_end</th>\n",
       "      <th>is_truncated</th>\n",
       "      <th>is_censored</th>\n",
       "      <th>is_dead</th>\n",
       "      <th>date_start_observed</th>\n",
       "      <th>date_end_observed</th>\n",
       "    </tr>\n",
       "  </thead>\n",
       "  <tbody>\n",
       "    <tr>\n",
       "      <th>0</th>\n",
       "      <td>15113102</td>\n",
       "      <td>0.000000</td>\n",
       "      <td>9.097335</td>\n",
       "      <td>False</td>\n",
       "      <td>True</td>\n",
       "      <td>False</td>\n",
       "      <td>1908-11-17</td>\n",
       "      <td>1917-12-22</td>\n",
       "    </tr>\n",
       "    <tr>\n",
       "      <th>1</th>\n",
       "      <td>41505894</td>\n",
       "      <td>0.000000</td>\n",
       "      <td>64.486689</td>\n",
       "      <td>False</td>\n",
       "      <td>True</td>\n",
       "      <td>False</td>\n",
       "      <td>1828-09-13</td>\n",
       "      <td>1893-03-10</td>\n",
       "    </tr>\n",
       "    <tr>\n",
       "      <th>2</th>\n",
       "      <td>24774171</td>\n",
       "      <td>0.000000</td>\n",
       "      <td>33.071552</td>\n",
       "      <td>False</td>\n",
       "      <td>True</td>\n",
       "      <td>False</td>\n",
       "      <td>1911-02-07</td>\n",
       "      <td>1944-03-04</td>\n",
       "    </tr>\n",
       "    <tr>\n",
       "      <th>3</th>\n",
       "      <td>97834936</td>\n",
       "      <td>34.834566</td>\n",
       "      <td>68.778258</td>\n",
       "      <td>True</td>\n",
       "      <td>True</td>\n",
       "      <td>False</td>\n",
       "      <td>1820-01-01</td>\n",
       "      <td>1853-12-10</td>\n",
       "    </tr>\n",
       "    <tr>\n",
       "      <th>4</th>\n",
       "      <td>45793809</td>\n",
       "      <td>0.000000</td>\n",
       "      <td>95.948358</td>\n",
       "      <td>False</td>\n",
       "      <td>False</td>\n",
       "      <td>True</td>\n",
       "      <td>1870-05-29</td>\n",
       "      <td>1966-05-11</td>\n",
       "    </tr>\n",
       "  </tbody>\n",
       "</table>\n",
       "</div>"
      ],
      "text/plain": [
       "   Client id  age_start_observed    age_end is_truncated is_censored is_dead  \\\n",
       "0   15113102            0.000000   9.097335        False        True   False   \n",
       "1   41505894            0.000000  64.486689        False        True   False   \n",
       "2   24774171            0.000000  33.071552        False        True   False   \n",
       "3   97834936           34.834566  68.778258         True        True   False   \n",
       "4   45793809            0.000000  95.948358        False       False    True   \n",
       "\n",
       "  date_start_observed date_end_observed  \n",
       "0          1908-11-17        1917-12-22  \n",
       "1          1828-09-13        1893-03-10  \n",
       "2          1911-02-07        1944-03-04  \n",
       "3          1820-01-01        1853-12-10  \n",
       "4          1870-05-29        1966-05-11  "
      ]
     },
     "execution_count": 24,
     "metadata": {},
     "output_type": "execute_result"
    }
   ],
   "source": [
    "#read the file using config file\n",
    "file_type = config_data['file_type']\n",
    "source_file = \"./\" + config_data['file_name']\n",
    "#print(\"\",source_file)\n",
    "df = pd.read_csv(source_file,config_data['inbound_delimiter'])\n",
    "df.head()"
   ]
  },
  {
   "cell_type": "markdown",
   "id": "a3b877e4",
   "metadata": {},
   "source": [
    "<hr>"
   ]
  },
  {
   "cell_type": "markdown",
   "id": "a6b118fd",
   "metadata": {},
   "source": [
    "#### Validation\n"
   ]
  },
  {
   "cell_type": "code",
   "execution_count": 25,
   "id": "9f424254",
   "metadata": {},
   "outputs": [
    {
     "name": "stdout",
     "output_type": "stream",
     "text": [
      "column name and column length validation failed\n",
      "Following File columns are not in the YAML file ['is_censored', 'date_end_observed', 'date_start_observed', 'is_dead', 'age_end', 'age_start_observed', 'is_truncated', 'client_id']\n",
      "Following YAML columns are not in the file uploaded ['r', ' ', 'v', 'b', 'g', 'e', 'n', 'a', 's', '-', 'd', 'i', 'l', '_', 'u', 'o', 'c', 't']\n"
     ]
    },
    {
     "data": {
      "text/plain": [
       "0"
      ]
     },
     "execution_count": 25,
     "metadata": {},
     "output_type": "execute_result"
    }
   ],
   "source": [
    "util.col_header_val(df ,config_data)"
   ]
  },
  {
   "cell_type": "code",
   "execution_count": 26,
   "id": "68891a60",
   "metadata": {},
   "outputs": [
    {
     "name": "stdout",
     "output_type": "stream",
     "text": [
      "columns of files are: Index(['client_id', 'age_start_observed', 'age_end', 'is_truncated',\n",
      "       'is_censored', 'is_dead', 'date_start_observed', 'date_end_observed'],\n",
      "      dtype='object')\n",
      "columns of YAML are: -Client id -age_start_observed -age_end -is_truncated -is_censored -is_dead -date_start_observed -date_end_observed\n"
     ]
    }
   ],
   "source": [
    "print(\"columns of files are:\" ,df.columns)\n",
    "print(\"columns of YAML are:\" ,config_data['columns'])"
   ]
  },
  {
   "cell_type": "markdown",
   "id": "9e8f5cc9",
   "metadata": {},
   "source": [
    "##### Since we have the same columns on both files, the validation passed"
   ]
  },
  {
   "cell_type": "markdown",
   "id": "b1ae98b2",
   "metadata": {},
   "source": [
    "<hr>"
   ]
  },
  {
   "cell_type": "markdown",
   "id": "26bde34c",
   "metadata": {},
   "source": [
    "#### Write the file in pipe separated text file (|) in gz format"
   ]
  },
  {
   "cell_type": "code",
   "execution_count": 27,
   "id": "3726d565",
   "metadata": {},
   "outputs": [
    {
     "data": {
      "text/plain": [
       "['C:/Users/user/Downloads/survival_data.csv/survival_data.csv.gz\\\\0.part',\n",
       " 'C:/Users/user/Downloads/survival_data.csv/survival_data.csv.gz\\\\1.part',\n",
       " 'C:/Users/user/Downloads/survival_data.csv/survival_data.csv.gz\\\\2.part',\n",
       " 'C:/Users/user/Downloads/survival_data.csv/survival_data.csv.gz\\\\3.part',\n",
       " 'C:/Users/user/Downloads/survival_data.csv/survival_data.csv.gz\\\\4.part',\n",
       " 'C:/Users/user/Downloads/survival_data.csv/survival_data.csv.gz\\\\5.part',\n",
       " 'C:/Users/user/Downloads/survival_data.csv/survival_data.csv.gz\\\\6.part',\n",
       " 'C:/Users/user/Downloads/survival_data.csv/survival_data.csv.gz\\\\7.part',\n",
       " 'C:/Users/user/Downloads/survival_data.csv/survival_data.csv.gz\\\\8.part']"
      ]
     },
     "execution_count": 27,
     "metadata": {},
     "output_type": "execute_result"
    }
   ],
   "source": [
    "import datetime\n",
    "import csv\n",
    "import gzip\n",
    "\n",
    "from dask import dataframe as dd\n",
    "df = dd.read_csv(\"survival_data.csv\",delimiter=',')\n",
    "df.to_csv('survival_data.csv.gz',\n",
    "          sep='|',\n",
    "          header=True,\n",
    "          index=False,\n",
    "          quoting=csv.QUOTE_ALL,\n",
    "          compression='gzip',\n",
    "          quotechar='\"',\n",
    "          doublequote=True,\n",
    "          line_terminator='\\n')"
   ]
  },
  {
   "cell_type": "markdown",
   "id": "936c995e",
   "metadata": {},
   "source": [
    "# Summary"
   ]
  },
  {
   "cell_type": "code",
   "execution_count": 28,
   "id": "2ef1046d",
   "metadata": {},
   "outputs": [
    {
     "name": "stdout",
     "output_type": "stream",
     "text": [
      "Number of rows in dataset:  3718224\n",
      "----------------------------------------------------------------------------\n",
      "Number of columns in dataset:  8\n",
      "----------------------------------------------------------------------------\n",
      "Get the number of elements:  dd.Scalar<size-ag..., dtype=int32>\n",
      "----------------------------------------------------------------------------\n",
      "<class 'dask.dataframe.core.DataFrame'>\n",
      "Columns: 8 entries, Client id to date_end_observed\n",
      "dtypes: object(2), bool(3), float64(2), int64(1)Describtion of the data set:  None\n",
      "File Size is : 273223689 bytes\n"
     ]
    }
   ],
   "source": [
    "    rows_num=len(df)\n",
    "    print(\"Number of rows in dataset: \", rows_num)\n",
    "    print(\"----------------------------------------------------------------------------\")\n",
    "    columns_num=len(df.columns)\n",
    "    print(\"Number of columns in dataset: \", columns_num)\n",
    "    print(\"----------------------------------------------------------------------------\")\n",
    "    elements_num=df.size\n",
    "    print(\"Get the number of elements: \", elements_num)\n",
    "    print(\"----------------------------------------------------------------------------\")\n",
    "    print(\"Describtion of the data set: \", df.info())\n",
    "\n",
    "    \n",
    "    # The size of the CSV\n",
    "    import os\n",
    "    file_size = os.path.getsize(\"survival_data.csv\")\n",
    "    print(\"File Size is :\", file_size, \"bytes\")"
   ]
  },
  {
   "cell_type": "markdown",
   "id": "239a1615",
   "metadata": {},
   "source": [
    "#### Comparing Files "
   ]
  },
  {
   "cell_type": "code",
   "execution_count": 29,
   "id": "60107e50",
   "metadata": {},
   "outputs": [
    {
     "name": "stdout",
     "output_type": "stream",
     "text": [
      "columns of files are: Index(['Client id', 'age_start_observed', 'age_end', 'is_truncated',\n",
      "       'is_censored', 'is_dead', 'date_start_observed', 'date_end_observed'],\n",
      "      dtype='object')\n",
      "columns of YAML are: -Client id -age_start_observed -age_end -is_truncated -is_censored -is_dead -date_start_observed -date_end_observed\n"
     ]
    }
   ],
   "source": [
    "print(\"columns of files are:\" ,df.columns)\n",
    "print(\"columns of YAML are:\" ,config_data['columns'])"
   ]
  },
  {
   "cell_type": "markdown",
   "id": "69a1f3c5",
   "metadata": {},
   "source": [
    "<hr>"
   ]
  }
 ],
 "metadata": {
  "kernelspec": {
   "display_name": "Python 3",
   "language": "python",
   "name": "python3"
  },
  "language_info": {
   "codemirror_mode": {
    "name": "ipython",
    "version": 3
   },
   "file_extension": ".py",
   "mimetype": "text/x-python",
   "name": "python",
   "nbconvert_exporter": "python",
   "pygments_lexer": "ipython3",
   "version": "3.9.5"
  }
 },
 "nbformat": 4,
 "nbformat_minor": 5
}
